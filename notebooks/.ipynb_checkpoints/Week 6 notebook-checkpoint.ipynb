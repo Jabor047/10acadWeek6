{
 "cells": [
  {
   "cell_type": "markdown",
   "metadata": {},
   "source": [
    "# Bank Institution Term Deposit Predictive Model"
   ]
  },
  {
   "cell_type": "markdown",
   "metadata": {},
   "source": [
    "- [Data Analysis](#Data-Analysis)\n",
    "    - [Missing Values](#Missing-Values)\n",
    "    - [Univariate Analysis](#Univariate-Analysis)\n",
    "    - [Bivariate Analysis](#Bivariate-Analysis)"
   ]
  },
  {
   "cell_type": "code",
   "execution_count": 1,
   "metadata": {},
   "outputs": [],
   "source": [
    "import pandas as pd\n",
    "import numpy as np\n",
    "import matplotlib.pyplot as plt\n",
    "import seaborn as sns"
   ]
  },
  {
   "cell_type": "code",
   "execution_count": 2,
   "metadata": {},
   "outputs": [
    {
     "data": {
      "text/html": [
       "<div>\n",
       "<style scoped>\n",
       "    .dataframe tbody tr th:only-of-type {\n",
       "        vertical-align: middle;\n",
       "    }\n",
       "\n",
       "    .dataframe tbody tr th {\n",
       "        vertical-align: top;\n",
       "    }\n",
       "\n",
       "    .dataframe thead th {\n",
       "        text-align: right;\n",
       "    }\n",
       "</style>\n",
       "<table border=\"1\" class=\"dataframe\">\n",
       "  <thead>\n",
       "    <tr style=\"text-align: right;\">\n",
       "      <th></th>\n",
       "      <th>age</th>\n",
       "      <th>job</th>\n",
       "      <th>marital</th>\n",
       "      <th>education</th>\n",
       "      <th>default</th>\n",
       "      <th>housing</th>\n",
       "      <th>loan</th>\n",
       "      <th>contact</th>\n",
       "      <th>month</th>\n",
       "      <th>day_of_week</th>\n",
       "      <th>...</th>\n",
       "      <th>campaign</th>\n",
       "      <th>pdays</th>\n",
       "      <th>previous</th>\n",
       "      <th>poutcome</th>\n",
       "      <th>emp.var.rate</th>\n",
       "      <th>cons.price.idx</th>\n",
       "      <th>cons.conf.idx</th>\n",
       "      <th>euribor3m</th>\n",
       "      <th>nr.employed</th>\n",
       "      <th>y</th>\n",
       "    </tr>\n",
       "  </thead>\n",
       "  <tbody>\n",
       "    <tr>\n",
       "      <th>0</th>\n",
       "      <td>56</td>\n",
       "      <td>housemaid</td>\n",
       "      <td>married</td>\n",
       "      <td>basic.4y</td>\n",
       "      <td>no</td>\n",
       "      <td>no</td>\n",
       "      <td>no</td>\n",
       "      <td>telephone</td>\n",
       "      <td>may</td>\n",
       "      <td>mon</td>\n",
       "      <td>...</td>\n",
       "      <td>1</td>\n",
       "      <td>999</td>\n",
       "      <td>0</td>\n",
       "      <td>nonexistent</td>\n",
       "      <td>1.1</td>\n",
       "      <td>93.994</td>\n",
       "      <td>-36.4</td>\n",
       "      <td>4.857</td>\n",
       "      <td>5191.0</td>\n",
       "      <td>no</td>\n",
       "    </tr>\n",
       "    <tr>\n",
       "      <th>1</th>\n",
       "      <td>57</td>\n",
       "      <td>services</td>\n",
       "      <td>married</td>\n",
       "      <td>high.school</td>\n",
       "      <td>unknown</td>\n",
       "      <td>no</td>\n",
       "      <td>no</td>\n",
       "      <td>telephone</td>\n",
       "      <td>may</td>\n",
       "      <td>mon</td>\n",
       "      <td>...</td>\n",
       "      <td>1</td>\n",
       "      <td>999</td>\n",
       "      <td>0</td>\n",
       "      <td>nonexistent</td>\n",
       "      <td>1.1</td>\n",
       "      <td>93.994</td>\n",
       "      <td>-36.4</td>\n",
       "      <td>4.857</td>\n",
       "      <td>5191.0</td>\n",
       "      <td>no</td>\n",
       "    </tr>\n",
       "    <tr>\n",
       "      <th>2</th>\n",
       "      <td>37</td>\n",
       "      <td>services</td>\n",
       "      <td>married</td>\n",
       "      <td>high.school</td>\n",
       "      <td>no</td>\n",
       "      <td>yes</td>\n",
       "      <td>no</td>\n",
       "      <td>telephone</td>\n",
       "      <td>may</td>\n",
       "      <td>mon</td>\n",
       "      <td>...</td>\n",
       "      <td>1</td>\n",
       "      <td>999</td>\n",
       "      <td>0</td>\n",
       "      <td>nonexistent</td>\n",
       "      <td>1.1</td>\n",
       "      <td>93.994</td>\n",
       "      <td>-36.4</td>\n",
       "      <td>4.857</td>\n",
       "      <td>5191.0</td>\n",
       "      <td>no</td>\n",
       "    </tr>\n",
       "    <tr>\n",
       "      <th>3</th>\n",
       "      <td>40</td>\n",
       "      <td>admin.</td>\n",
       "      <td>married</td>\n",
       "      <td>basic.6y</td>\n",
       "      <td>no</td>\n",
       "      <td>no</td>\n",
       "      <td>no</td>\n",
       "      <td>telephone</td>\n",
       "      <td>may</td>\n",
       "      <td>mon</td>\n",
       "      <td>...</td>\n",
       "      <td>1</td>\n",
       "      <td>999</td>\n",
       "      <td>0</td>\n",
       "      <td>nonexistent</td>\n",
       "      <td>1.1</td>\n",
       "      <td>93.994</td>\n",
       "      <td>-36.4</td>\n",
       "      <td>4.857</td>\n",
       "      <td>5191.0</td>\n",
       "      <td>no</td>\n",
       "    </tr>\n",
       "    <tr>\n",
       "      <th>4</th>\n",
       "      <td>56</td>\n",
       "      <td>services</td>\n",
       "      <td>married</td>\n",
       "      <td>high.school</td>\n",
       "      <td>no</td>\n",
       "      <td>no</td>\n",
       "      <td>yes</td>\n",
       "      <td>telephone</td>\n",
       "      <td>may</td>\n",
       "      <td>mon</td>\n",
       "      <td>...</td>\n",
       "      <td>1</td>\n",
       "      <td>999</td>\n",
       "      <td>0</td>\n",
       "      <td>nonexistent</td>\n",
       "      <td>1.1</td>\n",
       "      <td>93.994</td>\n",
       "      <td>-36.4</td>\n",
       "      <td>4.857</td>\n",
       "      <td>5191.0</td>\n",
       "      <td>no</td>\n",
       "    </tr>\n",
       "  </tbody>\n",
       "</table>\n",
       "<p>5 rows × 21 columns</p>\n",
       "</div>"
      ],
      "text/plain": [
       "   age        job  marital    education  default housing loan    contact  \\\n",
       "0   56  housemaid  married     basic.4y       no      no   no  telephone   \n",
       "1   57   services  married  high.school  unknown      no   no  telephone   \n",
       "2   37   services  married  high.school       no     yes   no  telephone   \n",
       "3   40     admin.  married     basic.6y       no      no   no  telephone   \n",
       "4   56   services  married  high.school       no      no  yes  telephone   \n",
       "\n",
       "  month day_of_week  ...  campaign  pdays  previous     poutcome emp.var.rate  \\\n",
       "0   may         mon  ...         1    999         0  nonexistent          1.1   \n",
       "1   may         mon  ...         1    999         0  nonexistent          1.1   \n",
       "2   may         mon  ...         1    999         0  nonexistent          1.1   \n",
       "3   may         mon  ...         1    999         0  nonexistent          1.1   \n",
       "4   may         mon  ...         1    999         0  nonexistent          1.1   \n",
       "\n",
       "   cons.price.idx  cons.conf.idx  euribor3m  nr.employed   y  \n",
       "0          93.994          -36.4      4.857       5191.0  no  \n",
       "1          93.994          -36.4      4.857       5191.0  no  \n",
       "2          93.994          -36.4      4.857       5191.0  no  \n",
       "3          93.994          -36.4      4.857       5191.0  no  \n",
       "4          93.994          -36.4      4.857       5191.0  no  \n",
       "\n",
       "[5 rows x 21 columns]"
      ]
     },
     "execution_count": 2,
     "metadata": {},
     "output_type": "execute_result"
    }
   ],
   "source": [
    "df = pd.read_csv('../bank-additional-full.csv', delimiter=';')\n",
    "df.head()"
   ]
  },
  {
   "cell_type": "markdown",
   "metadata": {},
   "source": [
    "## Data Analysis"
   ]
  },
  {
   "cell_type": "markdown",
   "metadata": {},
   "source": [
    "### Missing Values"
   ]
  },
  {
   "cell_type": "markdown",
   "metadata": {},
   "source": [
    "from the data description the cells with \"unknown\" value are Nan values and are found in the categorical colums, Lets convert this cells to NaN Values to ease our Analysis problem"
   ]
  },
  {
   "cell_type": "code",
   "execution_count": 3,
   "metadata": {},
   "outputs": [],
   "source": [
    "df = df.replace('unknown', np.NaN)"
   ]
  },
  {
   "cell_type": "code",
   "execution_count": 4,
   "metadata": {},
   "outputs": [
    {
     "data": {
      "text/plain": [
       "age                  0\n",
       "job                330\n",
       "marital             80\n",
       "education         1731\n",
       "default           8597\n",
       "housing            990\n",
       "loan               990\n",
       "contact              0\n",
       "month                0\n",
       "day_of_week          0\n",
       "duration             0\n",
       "campaign             0\n",
       "pdays                0\n",
       "previous             0\n",
       "poutcome             0\n",
       "emp.var.rate         0\n",
       "cons.price.idx       0\n",
       "cons.conf.idx        0\n",
       "euribor3m            0\n",
       "nr.employed          0\n",
       "y                    0\n",
       "dtype: int64"
      ]
     },
     "execution_count": 4,
     "metadata": {},
     "output_type": "execute_result"
    }
   ],
   "source": [
    "# Check for null values\n",
    "df.isnull().sum()"
   ]
  },
  {
   "cell_type": "markdown",
   "metadata": {},
   "source": [
    "The columns with are unknown values in the job and marital columns are not that many we can so drop them"
   ]
  },
  {
   "cell_type": "code",
   "execution_count": 5,
   "metadata": {},
   "outputs": [
    {
     "data": {
      "text/plain": [
       "(40858, 21)"
      ]
     },
     "execution_count": 5,
     "metadata": {},
     "output_type": "execute_result"
    }
   ],
   "source": [
    "df = df[df.job.notna()]\n",
    "# the shape should be less with 300\n",
    "df.shape"
   ]
  },
  {
   "cell_type": "code",
   "execution_count": 6,
   "metadata": {},
   "outputs": [
    {
     "data": {
      "text/plain": [
       "(40787, 21)"
      ]
     },
     "execution_count": 6,
     "metadata": {},
     "output_type": "execute_result"
    }
   ],
   "source": [
    "df = df[df.marital.notna()]\n",
    "# the shape should change\n",
    "df.shape"
   ]
  },
  {
   "cell_type": "code",
   "execution_count": 7,
   "metadata": {},
   "outputs": [
    {
     "data": {
      "text/plain": [
       "age                  0\n",
       "job                  0\n",
       "marital              0\n",
       "education         1596\n",
       "default           8436\n",
       "housing            984\n",
       "loan               984\n",
       "contact              0\n",
       "month                0\n",
       "day_of_week          0\n",
       "duration             0\n",
       "campaign             0\n",
       "pdays                0\n",
       "previous             0\n",
       "poutcome             0\n",
       "emp.var.rate         0\n",
       "cons.price.idx       0\n",
       "cons.conf.idx        0\n",
       "euribor3m            0\n",
       "nr.employed          0\n",
       "y                    0\n",
       "dtype: int64"
      ]
     },
     "execution_count": 7,
     "metadata": {},
     "output_type": "execute_result"
    }
   ],
   "source": [
    "# Check for null values\n",
    "df.isnull().sum()"
   ]
  },
  {
   "cell_type": "markdown",
   "metadata": {},
   "source": [
    "Since these columns (eduaction, default, housing and loan) are categorical columns,we have to replace the null values with random values in the column instead of using the normal mean, mode, median methods. We get a random permutation of the values in the columns and from this permutation remove the null values from it and select a random value in the new permuation(the one without null values) and replace a null value with it. "
   ]
  },
  {
   "cell_type": "code",
   "execution_count": 8,
   "metadata": {},
   "outputs": [],
   "source": [
    "# create a random permutation of the categorical values in the education col\n",
    "perm = np.random.permutation(df.education)\n",
    "\n",
    "# erase the empty values in the permutation\n",
    "perm = perm[~pd.isnull(perm)]\n",
    "\n",
    "# replace all NaN values in the education columns\n",
    "end = len(perm)\n",
    "df.education = df.education.apply(lambda x: perm[np.random.randint(end)] if pd.isnull(x) else x)"
   ]
  },
  {
   "cell_type": "code",
   "execution_count": 9,
   "metadata": {},
   "outputs": [
    {
     "name": "stdout",
     "output_type": "stream",
     "text": [
      "40787\n"
     ]
    }
   ],
   "source": [
    "# create a random permutation of the categorical values in the default col\n",
    "perm = np.random.permutation(df.default)\n",
    "print(len(perm))\n",
    "\n",
    "# erase the empty values in the permutation\n",
    "perm = perm[~pd.isnull(perm)]\n",
    "\n",
    "# replace all NaN values in the education columns\n",
    "end = len(perm)\n",
    "df.default = df.default.apply(lambda x: perm[np.random.randint(end)] if pd.isnull(x) else x)"
   ]
  },
  {
   "cell_type": "code",
   "execution_count": 10,
   "metadata": {},
   "outputs": [],
   "source": [
    "# create a random permutation of the categorical values in the default col\n",
    "perm = np.random.permutation(df.housing)\n",
    "\n",
    "# erase the empty values in the permutation\n",
    "perm = perm[~pd.isnull(perm)]\n",
    "\n",
    "# replace all NaN values in the education columns\n",
    "end = len(perm)\n",
    "df.housing = df.housing.apply(lambda x: perm[np.random.randint(end)] if pd.isnull(x) else x)"
   ]
  },
  {
   "cell_type": "code",
   "execution_count": 11,
   "metadata": {},
   "outputs": [],
   "source": [
    "# create a random permutation of the categorical values in the default col\n",
    "perm = np.random.permutation(df.loan)\n",
    "\n",
    "# erase the empty values in the permutation\n",
    "perm = perm[~pd.isnull(perm)]\n",
    "\n",
    "# replace all NaN values in the education columns\n",
    "end = len(perm)\n",
    "df.loan = df.loan.apply(lambda x: perm[np.random.randint(end)] if pd.isnull(x) else x)"
   ]
  },
  {
   "cell_type": "code",
   "execution_count": 12,
   "metadata": {},
   "outputs": [
    {
     "data": {
      "text/plain": [
       "age               0\n",
       "job               0\n",
       "marital           0\n",
       "education         0\n",
       "default           0\n",
       "housing           0\n",
       "loan              0\n",
       "contact           0\n",
       "month             0\n",
       "day_of_week       0\n",
       "duration          0\n",
       "campaign          0\n",
       "pdays             0\n",
       "previous          0\n",
       "poutcome          0\n",
       "emp.var.rate      0\n",
       "cons.price.idx    0\n",
       "cons.conf.idx     0\n",
       "euribor3m         0\n",
       "nr.employed       0\n",
       "y                 0\n",
       "dtype: int64"
      ]
     },
     "execution_count": 12,
     "metadata": {},
     "output_type": "execute_result"
    }
   ],
   "source": [
    "# Check for null values\n",
    "df.isnull().sum()"
   ]
  },
  {
   "cell_type": "markdown",
   "metadata": {},
   "source": [
    "### Univariate Analysis"
   ]
  },
  {
   "cell_type": "markdown",
   "metadata": {},
   "source": [
    "Lets change the class balance between in the various caategorical columns to see which classes have the largest \"Market Share\". The best tool for this is the piechart "
   ]
  },
  {
   "cell_type": "code",
   "execution_count": 13,
   "metadata": {},
   "outputs": [
    {
     "data": {
      "text/plain": [
       "admin.           10408\n",
       "blue-collar       9240\n",
       "technician        6731\n",
       "services          3963\n",
       "management        2921\n",
       "retired           1715\n",
       "entrepreneur      1453\n",
       "self-employed     1416\n",
       "housemaid         1057\n",
       "unemployed        1009\n",
       "student            874\n",
       "Name: job, dtype: int64"
      ]
     },
     "execution_count": 13,
     "metadata": {},
     "output_type": "execute_result"
    }
   ],
   "source": [
    "df.job.value_counts()"
   ]
  },
  {
   "cell_type": "code",
   "execution_count": 14,
   "metadata": {},
   "outputs": [
    {
     "data": {
      "text/plain": [
       "([<matplotlib.patches.Wedge at 0x7febe886f390>,\n",
       "  <matplotlib.patches.Wedge at 0x7febe886f860>,\n",
       "  <matplotlib.patches.Wedge at 0x7febe886fcf8>,\n",
       "  <matplotlib.patches.Wedge at 0x7febe68041d0>,\n",
       "  <matplotlib.patches.Wedge at 0x7febe6804668>,\n",
       "  <matplotlib.patches.Wedge at 0x7febe6804b00>,\n",
       "  <matplotlib.patches.Wedge at 0x7febe6804f98>,\n",
       "  <matplotlib.patches.Wedge at 0x7febe6811470>,\n",
       "  <matplotlib.patches.Wedge at 0x7febe6811908>,\n",
       "  <matplotlib.patches.Wedge at 0x7febe6811da0>,\n",
       "  <matplotlib.patches.Wedge at 0x7febe88bcd30>],\n",
       " [Text(0.7650588788123293, 0.7903701107395332, 'admin.'),\n",
       "  Text(-0.7451606293086133, 0.8091573620306446, 'blue-collar'),\n",
       "  Text(-1.0116151390786972, -0.43201251184055833, 'technician'),\n",
       "  Text(-0.3704529943607538, -1.0357434909132432, 'services'),\n",
       "  Text(0.2042281847139887, -1.0808750383686494, 'management'),\n",
       "  Text(0.5691594015782021, -0.9413063133726147, 'retired'),\n",
       "  Text(0.7797172717985724, -0.7759129951605344, 'entrepreneur'),\n",
       "  Text(0.9308278590261242, -0.5861394858400532, 'self-employed'),\n",
       "  Text(1.0249668385498267, -0.3993031177854407, 'housemaid'),\n",
       "  Text(1.0752907285879953, -0.23184013675957452, 'unemployed'),\n",
       "  Text(1.0975084005188536, -0.07399534303283956, 'student')])"
      ]
     },
     "execution_count": 14,
     "metadata": {},
     "output_type": "execute_result"
    },
    {
     "data": {
      "image/png": "[encoded data removed]",
      "text/plain": [
       "<Figure size 504x504 with 1 Axes>"
      ]
     },
     "metadata": {},
     "output_type": "display_data"
    }
   ],
   "source": [
    "# get the column names in the way they are ranked by number of values\n",
    "labels = df.job.value_counts().index.tolist()\n",
    "\n",
    "# plot the job pie chart.\n",
    "plt.figure(figsize=(7,7))\n",
    "plt.pie(df.job.value_counts(),labels=labels)"
   ]
  },
  {
   "cell_type": "code",
   "execution_count": 15,
   "metadata": {},
   "outputs": [
    {
     "data": {
      "text/plain": [
       "([<matplotlib.patches.Wedge at 0x7febe6756d30>,\n",
       "  <matplotlib.patches.Wedge at 0x7febe6765240>,\n",
       "  <matplotlib.patches.Wedge at 0x7febe67656d8>],\n",
       " [Text(-0.35774081574418765, 1.0402026286982182, 'married'),\n",
       "  Text(-0.025288783837156995, -1.0997092694944595, 'single'),\n",
       "  Text(1.0317033026806188, -0.38156034285274437, 'divorced')])"
      ]
     },
     "execution_count": 15,
     "metadata": {},
     "output_type": "execute_result"
    },
    {
     "data": {
      "image/png": "[encoded data removed]",
      "text/plain": [
       "<Figure size 504x504 with 1 Axes>"
      ]
     },
     "metadata": {},
     "output_type": "display_data"
    }
   ],
   "source": [
    "# get the column names in the way they are ranked by number of values\n",
    "labels = df.marital.value_counts().index.tolist()\n",
    "\n",
    "# plot the pie chart\n",
    "plt.figure(figsize=(7,7))\n",
    "plt.pie(df.marital.value_counts(),labels=labels)"
   ]
  },
  {
   "cell_type": "code",
   "execution_count": 16,
   "metadata": {},
   "outputs": [
    {
     "data": {
      "text/plain": [
       "university.degree      12592\n",
       "high.school             9848\n",
       "basic.9y                6248\n",
       "professional.course     5434\n",
       "basic.4y                4292\n",
       "basic.6y                2353\n",
       "illiterate                20\n",
       "Name: education, dtype: int64"
      ]
     },
     "execution_count": 16,
     "metadata": {},
     "output_type": "execute_result"
    }
   ],
   "source": [
    "# values in education ranked by number of values\n",
    "df.education.value_counts()"
   ]
  },
  {
   "cell_type": "code",
   "execution_count": 17,
   "metadata": {},
   "outputs": [
    {
     "data": {
      "text/plain": [
       "([<matplotlib.patches.Wedge at 0x7febe6724fd0>,\n",
       "  <matplotlib.patches.Wedge at 0x7febe67324e0>,\n",
       "  <matplotlib.patches.Wedge at 0x7febe6732978>,\n",
       "  <matplotlib.patches.Wedge at 0x7febe6732e10>,\n",
       "  <matplotlib.patches.Wedge at 0x7febe673e2e8>,\n",
       "  <matplotlib.patches.Wedge at 0x7febe673e780>,\n",
       "  <matplotlib.patches.Wedge at 0x7febe673ec18>],\n",
       " [Text(0.6219285551968552, 0.9073063827785808, 'university.degree'),\n",
       "  Text(-0.9936869857111755, 0.4717903924713159, 'high.school'),\n",
       "  Text(-0.7691274308638515, -0.7864114667861676, 'basic.9y'),\n",
       "  Text(0.1377001820158395, -1.091347176600006, 'professional.course'),\n",
       "  Text(0.8440511487561895, -0.7053918473326419, 'basic.4y'),\n",
       "  Text(1.0813673685950755, -0.20160509452333322, 'basic.6y'),\n",
       "  Text(1.0999986948721099, -0.0016944850708325515, 'illiterate')])"
      ]
     },
     "execution_count": 17,
     "metadata": {},
     "output_type": "execute_result"
    },
    {
     "data": {
      "image/png": "[encoded data removed]",
      "text/plain": [
       "<Figure size 504x504 with 1 Axes>"
      ]
     },
     "metadata": {},
     "output_type": "display_data"
    }
   ],
   "source": [
    "# plots the education pie chart\n",
    "labels = df.education.value_counts().index.tolist()\n",
    "plt.figure(figsize=(7,7))\n",
    "\n",
    "plt.pie(df.education.value_counts(),labels=labels)"
   ]
  },
  {
   "cell_type": "code",
   "execution_count": 18,
   "metadata": {},
   "outputs": [
    {
     "data": {
      "text/plain": [
       "no     40784\n",
       "yes        3\n",
       "Name: default, dtype: int64"
      ]
     },
     "execution_count": 18,
     "metadata": {},
     "output_type": "execute_result"
    }
   ],
   "source": [
    "# values in default ranked by number of values\n",
    "df.default.value_counts()"
   ]
  },
  {
   "cell_type": "code",
   "execution_count": 19,
   "metadata": {},
   "outputs": [
    {
     "data": {
      "text/plain": [
       "([<matplotlib.patches.Wedge at 0x7febe668b9b0>,\n",
       "  <matplotlib.patches.Wedge at 0x7febe668be80>],\n",
       " [Text(-1.099999970633448, 0.0002541779178404444, 'no'),\n",
       "  Text(1.0999999706340173, -0.0002541754537373679, 'yes')])"
      ]
     },
     "execution_count": 19,
     "metadata": {},
     "output_type": "execute_result"
    },
    {
     "data": {
      "image/png": "[encoded data removed]",
      "text/plain": [
       "<Figure size 504x504 with 1 Axes>"
      ]
     },
     "metadata": {},
     "output_type": "display_data"
    }
   ],
   "source": [
    "# get the column names in the way they are ranked by number of values\n",
    "labels = df.default.value_counts().index.tolist()\n",
    "\n",
    "# get the plot figure \n",
    "plt.figure(figsize=(7,7))\n",
    "plt.pie(df.default.value_counts(),labels=labels)"
   ]
  },
  {
   "cell_type": "code",
   "execution_count": 20,
   "metadata": {},
   "outputs": [
    {
     "data": {
      "text/plain": [
       "yes    21871\n",
       "no     18916\n",
       "Name: housing, dtype: int64"
      ]
     },
     "execution_count": 20,
     "metadata": {},
     "output_type": "execute_result"
    }
   ],
   "source": [
    "# values in default ranked by number of values\n",
    "df.housing.value_counts()"
   ]
  },
  {
   "cell_type": "code",
   "execution_count": 21,
   "metadata": {},
   "outputs": [
    {
     "data": {
      "text/plain": [
       "([<matplotlib.patches.Wedge at 0x7febe665c5f8>,\n",
       "  <matplotlib.patches.Wedge at 0x7febe665cac8>],\n",
       " [Text(-0.12491382209851745, 1.092884503069167, 'yes'),\n",
       "  Text(0.12491382209851733, -1.092884503069167, 'no')])"
      ]
     },
     "execution_count": 21,
     "metadata": {},
     "output_type": "execute_result"
    },
    {
     "data": {
      "image/png": "[encoded data removed]",
      "text/plain": [
       "<Figure size 504x504 with 1 Axes>"
      ]
     },
     "metadata": {},
     "output_type": "display_data"
    }
   ],
   "source": [
    "# get the column names in the way they are ranked by number of values\n",
    "labels = df.housing.value_counts().index.tolist()\n",
    "\n",
    "# get the plot figure \n",
    "plt.figure(figsize=(7,7))\n",
    "plt.pie(df.housing.value_counts(),labels=labels)"
   ]
  },
  {
   "cell_type": "code",
   "execution_count": 22,
   "metadata": {},
   "outputs": [
    {
     "data": {
      "text/plain": [
       "no     34446\n",
       "yes     6341\n",
       "Name: loan, dtype: int64"
      ]
     },
     "execution_count": 22,
     "metadata": {},
     "output_type": "execute_result"
    }
   ],
   "source": [
    "# values in loan ranked by number of values\n",
    "df.loan.value_counts()"
   ]
  },
  {
   "cell_type": "code",
   "execution_count": 23,
   "metadata": {},
   "outputs": [
    {
     "data": {
      "text/plain": [
       "([<matplotlib.patches.Wedge at 0x7febe66e85c0>,\n",
       "  <matplotlib.patches.Wedge at 0x7febe66e9208>],\n",
       " [Text(-0.9713872840446419, 0.5161460494824835, 'no'),\n",
       "  Text(0.9713872840446419, -0.5161460494824837, 'yes')])"
      ]
     },
     "execution_count": 23,
     "metadata": {},
     "output_type": "execute_result"
    },
    {
     "data": {
      "image/png": "[encoded data removed]",
      "text/plain": [
       "<Figure size 504x504 with 1 Axes>"
      ]
     },
     "metadata": {},
     "output_type": "display_data"
    }
   ],
   "source": [
    "# get the column names in the way they are ranked by number of values\n",
    "labels = df.loan.value_counts().index.tolist()\n",
    "\n",
    "# get the plot figure \n",
    "plt.figure(figsize=(7,7))\n",
    "plt.pie(df.loan.value_counts(),labels=labels)"
   ]
  },
  {
   "cell_type": "code",
   "execution_count": 24,
   "metadata": {},
   "outputs": [
    {
     "data": {
      "text/plain": [
       "cellular     25928\n",
       "telephone    14859\n",
       "Name: contact, dtype: int64"
      ]
     },
     "execution_count": 24,
     "metadata": {},
     "output_type": "execute_result"
    }
   ],
   "source": [
    "# values in contact ranked by number of values\n",
    "df.contact.value_counts()"
   ]
  },
  {
   "cell_type": "code",
   "execution_count": 25,
   "metadata": {},
   "outputs": [
    {
     "data": {
      "text/plain": [
       "([<matplotlib.patches.Wedge at 0x7febe65ddb70>,\n",
       "  <matplotlib.patches.Wedge at 0x7febe65ed048>],\n",
       " [Text(-0.45484648668593375, 1.001556126010651, 'cellular'),\n",
       "  Text(0.45484639291347956, -1.001556168596448, 'telephone')])"
      ]
     },
     "execution_count": 25,
     "metadata": {},
     "output_type": "execute_result"
    },
    {
     "data": {
      "image/png": "[encoded data removed]",
      "text/plain": [
       "<Figure size 504x504 with 1 Axes>"
      ]
     },
     "metadata": {},
     "output_type": "display_data"
    }
   ],
   "source": [
    "# get the column names in the way they are ranked by number of values\n",
    "labels = df.contact.value_counts().index.tolist()\n",
    "\n",
    "# get the plot figure \n",
    "plt.figure(figsize=(7,7))\n",
    "plt.pie(df.contact.value_counts(),labels=labels)"
   ]
  },
  {
   "cell_type": "code",
   "execution_count": 26,
   "metadata": {},
   "outputs": [
    {
     "data": {
      "text/plain": [
       "nonexistent    35217\n",
       "failure         4221\n",
       "success         1349\n",
       "Name: poutcome, dtype: int64"
      ]
     },
     "execution_count": 26,
     "metadata": {},
     "output_type": "execute_result"
    }
   ],
   "source": [
    "# values in poutcome ranked by number of values\n",
    "df.poutcome.value_counts()"
   ]
  },
  {
   "cell_type": "code",
   "execution_count": 27,
   "metadata": {},
   "outputs": [
    {
     "data": {
      "text/plain": [
       "([<matplotlib.patches.Wedge at 0x7febe65aa6d8>,\n",
       "  <matplotlib.patches.Wedge at 0x7febe65aaba8>,\n",
       "  <matplotlib.patches.Wedge at 0x7febe65b8080>],\n",
       " [Text(-1.0003086221820103, 0.4575835010009959, 'nonexistent'),\n",
       "  Text(0.9474534909399374, -0.5588666052876358, 'failure'),\n",
       "  Text(1.094067302249957, -0.11409092053052067, 'success')])"
      ]
     },
     "execution_count": 27,
     "metadata": {},
     "output_type": "execute_result"
    },
    {
     "data": {
      "image/png": "[encoded data removed]",
      "text/plain": [
       "<Figure size 504x504 with 1 Axes>"
      ]
     },
     "metadata": {},
     "output_type": "display_data"
    }
   ],
   "source": [
    "# get the column names in the way they are ranked by number of values\n",
    "labels = df.poutcome.value_counts().index.tolist()\n",
    "\n",
    "# get the plot figure \n",
    "plt.figure(figsize=(7,7))\n",
    "plt.pie(df.poutcome.value_counts(),labels=labels)"
   ]
  },
  {
   "cell_type": "code",
   "execution_count": 28,
   "metadata": {},
   "outputs": [
    {
     "data": {
      "text/plain": [
       "<AxesSubplot:xlabel='month', ylabel='count'>"
      ]
     },
     "execution_count": 28,
     "metadata": {},
     "output_type": "execute_result"
    },
    {
     "data": {
      "image/png": "[encoded data removed]",
      "text/plain": [
       "<Figure size 432x288 with 1 Axes>"
      ]
     },
     "metadata": {
      "needs_background": "light"
     },
     "output_type": "display_data"
    }
   ],
   "source": [
    "# This plot shows the distribution of the users reached across the different months\n",
    "sns.countplot(x='month', data=df)"
   ]
  },
  {
   "cell_type": "code",
   "execution_count": 29,
   "metadata": {},
   "outputs": [
    {
     "data": {
      "text/plain": [
       "<AxesSubplot:xlabel='day_of_week', ylabel='count'>"
      ]
     },
     "execution_count": 29,
     "metadata": {},
     "output_type": "execute_result"
    },
    {
     "data": {
      "image/png": "[encoded data removed]",
      "text/plain": [
       "<Figure size 432x288 with 1 Axes>"
      ]
     },
     "metadata": {
      "needs_background": "light"
     },
     "output_type": "display_data"
    }
   ],
   "source": [
    "# This plot shows the distribution of the users reached across the different days\n",
    "sns.countplot(x='day_of_week', data=df)"
   ]
  },
  {
   "cell_type": "code",
   "execution_count": 34,
   "metadata": {},
   "outputs": [
    {
     "data": {
      "text/plain": [
       "<AxesSubplot:xlabel='age'>"
      ]
     },
     "execution_count": 34,
     "metadata": {},
     "output_type": "execute_result"
    },
    {
     "data": {
      "image/png": "[encoded data removed]",
      "text/plain": [
       "<Figure size 432x288 with 1 Axes>"
      ]
     },
     "metadata": {
      "needs_background": "light"
     },
     "output_type": "display_data"
    }
   ],
   "source": [
    "# plotting the distribution of the age column\n",
    "sns.distplot(df.age, bins=25)"
   ]
  },
  {
   "cell_type": "code",
   "execution_count": null,
   "metadata": {},
   "outputs": [],
   "source": []
  },
  {
   "cell_type": "markdown",
   "metadata": {},
   "source": [
    "## Bivariate Analysis"
   ]
  },
  {
   "cell_type": "code",
   "execution_count": null,
   "metadata": {},
   "outputs": [],
   "source": [
    "sns."
   ]
  }
 ],
 "metadata": {
  "kernelspec": {
   "display_name": "Python 3",
   "language": "python",
   "name": "python3"
  },
  "language_info": {
   "codemirror_mode": {
    "name": "ipython",
    "version": 3
   },
   "file_extension": ".py",
   "mimetype": "text/x-python",
   "name": "python",
   "nbconvert_exporter": "python",
   "pygments_lexer": "ipython3",
   "version": "3.6.9"
  }
 },
 "nbformat": 4,
 "nbformat_minor": 4
}
